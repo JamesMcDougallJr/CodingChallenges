{
 "cells": [
  {
   "cell_type": "code",
   "execution_count": 2,
   "metadata": {},
   "outputs": [],
   "source": [
    "i_1 = [(14,76),(18,12),(14,76),(9,99),(12,177),(227,4)] # check\n",
    "i_2  = [] #check\n",
    "i_3 = [(1,1),(1,1),(5,4)] # Check\n",
    "i_4 = [(1,2),(2,3),(3,4),(4,5)] # check\n",
    "i_5 = [(1,1),(1,1)] # check\n",
    "i_6 = [(5,5),(5,5),(3,5),(277,4)] # does not notice 3,5"
   ]
  },
  {
   "cell_type": "code",
   "execution_count": 3,
   "metadata": {},
   "outputs": [],
   "source": [
    "def merge(lefthalf,righthalf):\n",
    "    new_list = [-1]*(len(lefthalf)+len(righthalf))\n",
    "    i=0\n",
    "    j=0\n",
    "    k=0    \n",
    "    while i < len(lefthalf) and j < len(righthalf):\n",
    "        if lefthalf[i][0] < righthalf[j][0]:\n",
    "            new_list[k]=lefthalf[i]\n",
    "            i=i+1\n",
    "        else:\n",
    "            # if they are equal, place them according to y value\n",
    "            if lefthalf[i][0] == righthalf[j][0]:\n",
    "                if lefthalf[i][1] < righthalf[j][1]:\n",
    "                    new_list[k] = lefthalf[i]\n",
    "                    i = i + 1\n",
    "                else:\n",
    "                    new_list[k] = righthalf[j]\n",
    "                    j= j + 1\n",
    "            else: \n",
    "                new_list[k]=righthalf[j]\n",
    "                j=j+1\n",
    "        k=k+1\n",
    "\n",
    "    while i < len(lefthalf):\n",
    "        new_list[k]=lefthalf[i]\n",
    "        i=i+1\n",
    "        k=k+1\n",
    "\n",
    "    while j < len(righthalf):\n",
    "        new_list[k]=righthalf[j]\n",
    "        j=j+1\n",
    "        k=k+1\n",
    "    return new_list"
   ]
  },
  {
   "cell_type": "code",
   "execution_count": 4,
   "metadata": {},
   "outputs": [],
   "source": [
    "def maxY(point1,point2):\n",
    "    if point1[1] > point2[1]:\n",
    "        return point1\n",
    "    else:\n",
    "        return point2"
   ]
  },
  {
   "cell_type": "code",
   "execution_count": 5,
   "metadata": {},
   "outputs": [],
   "source": [
    "non_pareto = []"
   ]
  },
  {
   "cell_type": "code",
   "execution_count": 44,
   "metadata": {},
   "outputs": [],
   "source": [
    "def pareto_Set(L):\n",
    "    # start at the end\n",
    "    i = len(L)-1\n",
    "    \n",
    "    # current max_y is the last element in the list, known to be the largest X, not necessarily y.\n",
    "    max_y = (0,-999999999999)\n",
    "    while i >= 0:\n",
    "        if L[i][1] <= max_y[1]:\n",
    "            if L[i][0] != L[i-1][0]:\n",
    "                non_pareto.insert(0,L[i])\n",
    "            # else the x are the same\n",
    "            else:\n",
    "                print(L)\n",
    "                if L[i][1] != L[i-1][1]:\n",
    "                    non_pareto.insert(0,L[i])\n",
    "        max_y = maxY(L[i],max_y)\n",
    "        i = i - 1"
   ]
  },
  {
   "cell_type": "code",
   "execution_count": 45,
   "metadata": {},
   "outputs": [],
   "source": [
    "# Alternate Approach using Divide and Conquer\n",
    "# given a list, will return the pareto optimal subset\n",
    "def pareto(L):\n",
    "    # if the list is only one element, its the base case, return the element\n",
    "    if len(L) <= 1:\n",
    "        return L\n",
    "    # otherwise, get the pareto of the left and right\n",
    "    left = pareto(L[:len(L)//2])\n",
    "  \n",
    "    right = pareto(L[len(L)//2:])\n",
    "\n",
    "    new_L = merge(left,right)\n",
    "    \n",
    "    pareto_Set(new_L)\n",
    "    \n",
    "    return new_L"
   ]
  },
  {
   "cell_type": "code",
   "execution_count": 46,
   "metadata": {
    "scrolled": true
   },
   "outputs": [
    {
     "data": {
      "text/plain": [
       "[(9, 99), (14, 76), (9, 99), (14, 76)]"
      ]
     },
     "execution_count": 46,
     "metadata": {},
     "output_type": "execute_result"
    }
   ],
   "source": [
    "non_pareto.clear()\n",
    "pareto(i_1)\n",
    "non_pareto"
   ]
  },
  {
   "cell_type": "code",
   "execution_count": 47,
   "metadata": {},
   "outputs": [
    {
     "data": {
      "text/plain": [
       "[]"
      ]
     },
     "execution_count": 47,
     "metadata": {},
     "output_type": "execute_result"
    }
   ],
   "source": [
    "non_pareto.clear()\n",
    "pareto(i_2)\n",
    "non_pareto"
   ]
  },
  {
   "cell_type": "code",
   "execution_count": 48,
   "metadata": {},
   "outputs": [
    {
     "name": "stdout",
     "output_type": "stream",
     "text": [
      "[(1, 1), (1, 1), (5, 4)]\n"
     ]
    },
    {
     "data": {
      "text/plain": [
       "[(1, 1), (1, 1)]"
      ]
     },
     "execution_count": 48,
     "metadata": {},
     "output_type": "execute_result"
    }
   ],
   "source": [
    "non_pareto.clear()\n",
    "pareto(i_3)\n",
    "non_pareto"
   ]
  },
  {
   "cell_type": "code",
   "execution_count": 49,
   "metadata": {},
   "outputs": [
    {
     "data": {
      "text/plain": [
       "[(1, 2), (2, 3), (3, 4), (3, 4), (1, 2)]"
      ]
     },
     "execution_count": 49,
     "metadata": {},
     "output_type": "execute_result"
    }
   ],
   "source": [
    "non_pareto.clear()\n",
    "pareto(i_4)\n",
    "non_pareto"
   ]
  },
  {
   "cell_type": "code",
   "execution_count": 50,
   "metadata": {
    "scrolled": true
   },
   "outputs": [
    {
     "name": "stdout",
     "output_type": "stream",
     "text": [
      "[(1, 1), (1, 1)]\n"
     ]
    },
    {
     "data": {
      "text/plain": [
       "[]"
      ]
     },
     "execution_count": 50,
     "metadata": {},
     "output_type": "execute_result"
    }
   ],
   "source": [
    "non_pareto.clear()\n",
    "pareto(i_5)\n",
    "non_pareto"
   ]
  },
  {
   "cell_type": "code",
   "execution_count": 51,
   "metadata": {},
   "outputs": [
    {
     "name": "stdout",
     "output_type": "stream",
     "text": [
      "[(5, 5), (5, 5)]\n"
     ]
    },
    {
     "data": {
      "text/plain": [
       "[(3, 5), (5, 5)]"
      ]
     },
     "execution_count": 51,
     "metadata": {},
     "output_type": "execute_result"
    }
   ],
   "source": [
    "non_pareto.clear()\n",
    "pareto(i_6)\n",
    "non_pareto"
   ]
  },
  {
   "cell_type": "code",
   "execution_count": null,
   "metadata": {},
   "outputs": [],
   "source": []
  }
 ],
 "metadata": {
  "kernelspec": {
   "display_name": "Python 3",
   "language": "python",
   "name": "python3"
  },
  "language_info": {
   "codemirror_mode": {
    "name": "ipython",
    "version": 2
   },
   "file_extension": ".py",
   "mimetype": "text/x-python",
   "name": "python",
   "nbconvert_exporter": "python",
   "pygments_lexer": "ipython2",
   "version": "2.7.16"
  }
 },
 "nbformat": 4,
 "nbformat_minor": 2
}
