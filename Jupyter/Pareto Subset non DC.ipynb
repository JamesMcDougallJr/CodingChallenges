{
 "cells": [
  {
   "cell_type": "code",
   "execution_count": 138,
   "metadata": {},
   "outputs": [],
   "source": [
    "i_1 = [[14,76],[14,76],[18,12],[9,99],[12,177],[227,4],[10,78],[13,50]]\n",
    "i_2  = []\n",
    "i_3 = [(5,5),(5,5),(1,1)]\n",
    "i_4 = [(1,2),(2,3),(3,4),(4,5)]\n",
    "i_5 = [(1,1),(1,1),(5,4)]\n",
    "i_6 = [(5,5),(5,5),(3,5)] # does not notice 3,5"
   ]
  },
  {
   "cell_type": "code",
   "execution_count": 139,
   "metadata": {},
   "outputs": [],
   "source": [
    "def pareto_set(L):\n",
    "    if len(L)<=1:\n",
    "        return L\n",
    "    L = sorted(L , key=lambda k: [k[0], k[1]]) # O(nlogn)\n",
    "    pareto = []\n",
    "    max_y = -999999999999\n",
    "    i = len(L)-1\n",
    "    while i > 0: # O(n), i decreases by one each time\n",
    "        # if isn't domintated....\n",
    "        if L[i][1] > max_y:\n",
    "            max_y = max(L[i][1],max_y)\n",
    "            \n",
    "            # if the x values are the same            \n",
    "            if L[i][0] == L[i-1][0]:\n",
    "                #if y values are the same\n",
    "                if L[i][1] != L[i-1][1]:\n",
    "                    # only add if the y values are different\n",
    "                    pareto.append(L[i])\n",
    "                else:\n",
    "                    i = i - 1\n",
    "            # what if i-1 index doesn't exist?  \n",
    "            else:\n",
    "                pareto.append(L[i])\n",
    "        i = i - 1\n",
    "    if L[i][1] > max_y:\n",
    "        pareto.append(L[i])\n",
    "    return pareto"
   ]
  },
  {
   "cell_type": "code",
   "execution_count": 140,
   "metadata": {},
   "outputs": [
    {
     "name": "stdout",
     "output_type": "stream",
     "text": [
      "[[227, 4], [18, 12], [12, 177]]\n"
     ]
    }
   ],
   "source": [
    "print(pareto_set(i_1))"
   ]
  },
  {
   "cell_type": "code",
   "execution_count": 141,
   "metadata": {},
   "outputs": [
    {
     "name": "stdout",
     "output_type": "stream",
     "text": [
      "[]\n"
     ]
    }
   ],
   "source": [
    "print(pareto_set(i_2))"
   ]
  },
  {
   "cell_type": "code",
   "execution_count": 142,
   "metadata": {},
   "outputs": [
    {
     "name": "stdout",
     "output_type": "stream",
     "text": [
      "[]\n"
     ]
    }
   ],
   "source": [
    "print(pareto_set(i_3))"
   ]
  },
  {
   "cell_type": "code",
   "execution_count": 143,
   "metadata": {},
   "outputs": [
    {
     "name": "stdout",
     "output_type": "stream",
     "text": [
      "[(4, 5)]\n"
     ]
    }
   ],
   "source": [
    "print(pareto_set(i_4))"
   ]
  },
  {
   "cell_type": "code",
   "execution_count": 144,
   "metadata": {},
   "outputs": [
    {
     "name": "stdout",
     "output_type": "stream",
     "text": [
      "[(5, 4)]\n"
     ]
    }
   ],
   "source": [
    "print(pareto_set(i_5))"
   ]
  },
  {
   "cell_type": "code",
   "execution_count": 145,
   "metadata": {},
   "outputs": [
    {
     "name": "stdout",
     "output_type": "stream",
     "text": [
      "[]\n"
     ]
    }
   ],
   "source": [
    "print(pareto_set(i_6))"
   ]
  },
  {
   "cell_type": "code",
   "execution_count": null,
   "metadata": {},
   "outputs": [],
   "source": []
  },
  {
   "cell_type": "code",
   "execution_count": null,
   "metadata": {},
   "outputs": [],
   "source": []
  }
 ],
 "metadata": {
  "kernelspec": {
   "display_name": "Python 3",
   "language": "python",
   "name": "python3"
  },
  "language_info": {
   "codemirror_mode": {
    "name": "ipython",
    "version": 2
   },
   "file_extension": ".py",
   "mimetype": "text/x-python",
   "name": "python",
   "nbconvert_exporter": "python",
   "pygments_lexer": "ipython2",
   "version": "2.7.16"
  }
 },
 "nbformat": 4,
 "nbformat_minor": 2
}
