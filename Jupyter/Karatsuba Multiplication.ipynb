{
 "cells": [
  {
   "cell_type": "code",
   "execution_count": 8,
   "metadata": {},
   "outputs": [],
   "source": [
    "    def zeroPad(numberString, zeros, left = True):\n",
    "        \"\"\"Return the string with zeros added to the left or right.\"\"\"\n",
    "        for i in range(zeros):\n",
    "            if left:\n",
    "                numberString = '0' + numberString\n",
    "            else:\n",
    "                numberString = numberString + '0'\n",
    "        return numberString\n",
    "\n",
    "    def gradeSchoolMultiplication(x, y):\n",
    "\n",
    "        \"\"\"Multiply two integers using the grade-school algorithm.\"\"\"\n",
    "\n",
    "        #convert to strings for easy access to digits\n",
    "        x = str(x)\n",
    "        y = str(y)\n",
    "        #keep track of number of zeros required to pad partial multiplications\n",
    "        zeroPadding = 0\n",
    "        #sum the partial multiplications as we go\n",
    "        partialSum = 0\n",
    "        #loop over each digit in the second number\n",
    "        for i in range(len(y) -1, -1, -1):\n",
    "            #keep track of carry for multiplications resulting in answers > 9        \n",
    "            carry = 0\n",
    "            #partial multiplication answer as a string for easier manipulation\n",
    "            partial = ''\n",
    "            #pad with zeros on the right\n",
    "            partial = zeroPad(partial, zeroPadding, False)\n",
    "            #loop over each digit in the first number\n",
    "            for j in range(len(x) -1, -1, -1):\n",
    "                z = int(y[i])*int(x[j])\n",
    "                z += carry\n",
    "                #convert to string for easier manipulation\n",
    "                z = str(z)\n",
    "                #keep track of carry when answer > 9\n",
    "                if len(z)> 1:\n",
    "                    carry = int(z[0])\n",
    "                else:\n",
    "                    carry = 0\n",
    "\n",
    "                #concatenate final answer to the left of partial string    \n",
    "\n",
    "                partial = z[len(z) -1] + partial\n",
    "\n",
    "            #if there's any carry left at the end concatenate to partial string\n",
    "\n",
    "            if carry > 0:\n",
    "\n",
    "                partial = str(carry) + partial\n",
    "\n",
    "            #sum the partials as you go        \n",
    "\n",
    "            partialSum += int(partial)\n",
    "\n",
    "            #for the next digit of the second number we need another zero to the right\n",
    "\n",
    "            zeroPadding += 1\n",
    "\n",
    "        return partialSum"
   ]
  },
  {
   "cell_type": "code",
   "execution_count": 9,
   "metadata": {},
   "outputs": [],
   "source": [
    "    def karatsubaMultiplication(x ,y):\n",
    "        \"\"\"Multiply two integers using Karatsuba's algorithm.\"\"\"\n",
    "        #convert to strings for easy access to digits\n",
    "        x = str(x)\n",
    "        y = str(y)\n",
    "        #base case for recursion\n",
    "        if len(x) == 1 and len(y) == 1:\n",
    "            return int(x) * int(y)\n",
    "        if len(x) < len(y):\n",
    "            x = zeroPad(x, len(y) - len(x))\n",
    "        elif len(y) < len(x):\n",
    "            y = zeroPad(y, len(x) - len(y))\n",
    "        n = len(x)\n",
    "        j = n//2\n",
    "\n",
    "        #for odd digit integers\n",
    "\n",
    "        if (n % 2) != 0:\n",
    "            j += 1    \n",
    "\n",
    "        BZeroPadding = n - j\n",
    "        AZeroPadding = BZeroPadding * 2\n",
    "\n",
    "        a = int(x[:j])\n",
    "        b = int(x[j:])\n",
    "        c = int(y[:j])\n",
    "        d = int(y[j:])\n",
    "\n",
    "        #recursively calculate\n",
    "\n",
    "        ac = karatsubaMultiplication(a, c)\n",
    "        bd = karatsubaMultiplication(b, d)\n",
    "        k = karatsubaMultiplication(a + b, c + d)\n",
    "        A = int(zeroPad(str(ac), AZeroPadding, False))\n",
    "        B = int(zeroPad(str(k - ac - bd), BZeroPadding, False))\n",
    "\n",
    "        return A + B + bd"
   ]
  },
  {
   "cell_type": "code",
   "execution_count": 13,
   "metadata": {},
   "outputs": [],
   "source": [
    "import time as t"
   ]
  },
  {
   "cell_type": "code",
   "execution_count": 31,
   "metadata": {},
   "outputs": [
    {
     "name": "stdout",
     "output_type": "stream",
     "text": [
      "Result:\t999999999999999999999999999999999999999999999999999999999999999999999999999999999999999999999999999999999999999999999999999999999999999999999998000000000000000000000000000000000000000000000000000000000000000000000000000000000000000000000000000000000000000000000000000000000000000000000001\tElapsed Time\t0.05072736740112305\n"
     ]
    }
   ],
   "source": [
    "start = t.time()\n",
    "result = karatsubaMultiplication(999999999999999999999999999999999999999999999999999999999999999999999999999999999999999999999999999999999999999999999999999999999999999999999999,999999999999999999999999999999999999999999999999999999999999999999999999999999999999999999999999999999999999999999999999999999999999999999999999)\n",
    "print(\"Result:\\t{0}\\tElapsed Time\\t{1}\".format(result,t.time()-start))"
   ]
  },
  {
   "cell_type": "code",
   "execution_count": 32,
   "metadata": {},
   "outputs": [
    {
     "name": "stdout",
     "output_type": "stream",
     "text": [
      "Result:\t999999999999999999999999999999999999999999999999999999999999999999999999999999999999999999999999999999999999999999999999999999999999999999999998000000000000000000000000000000000000000000000000000000000000000000000000000000000000000000000000000000000000000000000000000000000000000000000001\tElapsed Time\t0.041999101638793945\n"
     ]
    }
   ],
   "source": [
    "start = t.time()\n",
    "result = gradeSchoolMultiplication(999999999999999999999999999999999999999999999999999999999999999999999999999999999999999999999999999999999999999999999999999999999999999999999999,999999999999999999999999999999999999999999999999999999999999999999999999999999999999999999999999999999999999999999999999999999999999999999999999)\n",
    "print(\"Result:\\t{0}\\tElapsed Time\\t{1}\".format(result,t.time()-start))"
   ]
  },
  {
   "cell_type": "code",
   "execution_count": null,
   "metadata": {},
   "outputs": [],
   "source": []
  }
 ],
 "metadata": {
  "kernelspec": {
   "display_name": "Python 3",
   "language": "python",
   "name": "python3"
  },
  "language_info": {
   "codemirror_mode": {
    "name": "ipython",
    "version": 3
   },
   "file_extension": ".py",
   "mimetype": "text/x-python",
   "name": "python",
   "nbconvert_exporter": "python",
   "pygments_lexer": "ipython3",
   "version": "3.7.2"
  }
 },
 "nbformat": 4,
 "nbformat_minor": 2
}
