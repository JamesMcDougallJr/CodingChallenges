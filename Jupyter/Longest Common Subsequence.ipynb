{
 "cells": [
  {
   "cell_type": "code",
   "execution_count": 1,
   "metadata": {},
   "outputs": [],
   "source": [
    "test1A = 'ALOHA'\n",
    "test1B = 'HALLOA'"
   ]
  },
  {
   "cell_type": "code",
   "execution_count": 35,
   "metadata": {},
   "outputs": [],
   "source": [
    "import string\n",
    "import random\n",
    "import time\n",
    "import numpy as np"
   ]
  },
  {
   "cell_type": "code",
   "execution_count": 4,
   "metadata": {},
   "outputs": [],
   "source": [
    "def longest_common_subsequence(L1,L2):\n",
    "    if len(L1) == 0 or len(L2) == 0:\n",
    "        return 0\n",
    "    if L1[0] == L2[0]:\n",
    "        return 1 + longest_common_subsequence(L1[1:],L2[1:])\n",
    "    else:\n",
    "        return max(longest_common_subsequence(L1[1:],L2),longest_common_subsequence(L1,L2[1:]))"
   ]
  },
  {
   "cell_type": "code",
   "execution_count": 5,
   "metadata": {},
   "outputs": [
    {
     "data": {
      "text/plain": [
       "4"
      ]
     },
     "execution_count": 5,
     "metadata": {},
     "output_type": "execute_result"
    }
   ],
   "source": [
    "longest_common_subsequence(test1A,test1B)"
   ]
  },
  {
   "cell_type": "code",
   "execution_count": 25,
   "metadata": {},
   "outputs": [],
   "source": [
    "def test():\n",
    "    return longest_common_subsequence(''.join(random.SystemRandom().choice(string.ascii_uppercase + string.digits) for _ in range(10)),''.join(random.SystemRandom().choice(string.ascii_uppercase + string.digits) for _ in range(10)))"
   ]
  },
  {
   "cell_type": "code",
   "execution_count": 28,
   "metadata": {},
   "outputs": [
    {
     "name": "stdout",
     "output_type": "stream",
     "text": [
      "Average length:1.677\n",
      "Average Time:1.3956380605697631\n"
     ]
    }
   ],
   "source": [
    "start = time.time()\n",
    "lengthSum = 0\n",
    "for i in range(1000):\n",
    "    lengthSum += test()\n",
    "    \n",
    "end = time.time()\n",
    "print('Average length:' + str(lengthSum/1000))\n",
    "print('Average Time:' + str((end-start)/100))"
   ]
  },
  {
   "cell_type": "code",
   "execution_count": 57,
   "metadata": {},
   "outputs": [],
   "source": [
    "def longest_common_subsequence_memoization(L1,L2):\n",
    "    L = np.zeros((len(L1),len(L2)))\n",
    "    "
   ]
  },
  {
   "cell_type": "code",
   "execution_count": 58,
   "metadata": {},
   "outputs": [
    {
     "name": "stdout",
     "output_type": "stream",
     "text": [
      "[[0. 0. 0. 0. 0. 0.]\n",
      " [0. 0. 0. 0. 0. 0.]\n",
      " [0. 0. 0. 0. 0. 0.]\n",
      " [0. 0. 0. 0. 0. 0.]\n",
      " [0. 0. 0. 0. 0. 0.]]\n"
     ]
    }
   ],
   "source": [
    "longest_common_subsequence_memoization(test1A,test1B)"
   ]
  },
  {
   "cell_type": "code",
   "execution_count": null,
   "metadata": {},
   "outputs": [],
   "source": []
  },
  {
   "cell_type": "code",
   "execution_count": null,
   "metadata": {},
   "outputs": [],
   "source": []
  }
 ],
 "metadata": {
  "kernelspec": {
   "display_name": "Python 3",
   "language": "python",
   "name": "python3"
  },
  "language_info": {
   "codemirror_mode": {
    "name": "ipython",
    "version": 2
   },
   "file_extension": ".py",
   "mimetype": "text/x-python",
   "name": "python",
   "nbconvert_exporter": "python",
   "pygments_lexer": "ipython2",
   "version": "2.7.16"
  }
 },
 "nbformat": 4,
 "nbformat_minor": 2
}
