{
 "cells": [
  {
   "cell_type": "code",
   "execution_count": 44,
   "metadata": {},
   "outputs": [],
   "source": [
    "L1 = [-2,1,-3,4,-1,2,1,-5,4]\n",
    "L2 = [2,-4,1,9,-6,7,-3]\n",
    "L3= [-100]\n",
    "L4 = [1,-2]"
   ]
  },
  {
   "cell_type": "code",
   "execution_count": 49,
   "metadata": {},
   "outputs": [],
   "source": [
    "import numpy as np"
   ]
  },
  {
   "cell_type": "code",
   "execution_count": 55,
   "metadata": {},
   "outputs": [],
   "source": [
    "def maxSubArray(L):\n",
    "    if len(L) == 1:\n",
    "        return max(L[0],0)\n",
    "    if len(L) < 1:\n",
    "        return -999999999999\n",
    "    m = len(L)//2\n",
    "    left = maxSubArray(L[:m])\n",
    "    right = maxSubArray(L[m+1:])\n",
    "    maxL = -9999999999999\n",
    "    sumL = 0\n",
    "    i = m - 1\n",
    "    while i >= 0:\n",
    "        sumL += L[i]\n",
    "        if sumL > maxL:\n",
    "            maxL = sumL\n",
    "        i = i - 1\n",
    "    maxR = -9999999999999\n",
    "    sumR = 0\n",
    "    i = m+1\n",
    "    while i < len(L):\n",
    "        sumR += L[i]\n",
    "        if sumR > maxR:\n",
    "            maxR = sumR\n",
    "        i = i + 1\n",
    "    middle = maxL + maxR + L[m]\n",
    "    return max(left,right,middle)"
   ]
  },
  {
   "cell_type": "code",
   "execution_count": 42,
   "metadata": {},
   "outputs": [
    {
     "name": "stdout",
     "output_type": "stream",
     "text": [
      "Left: 0\n",
      "Right: -999999999999\n",
      "Middle: -1000000000\n",
      "Left: 0\n",
      "Right: 4\n",
      "Middle: 2\n",
      "Left: 2\n",
      "Right: -999999999999\n",
      "Middle: -999999996\n",
      "Left: 2\n",
      "Right: 4\n",
      "Middle: 2\n",
      "Left: 4\n",
      "Right: 4\n",
      "Middle: 6\n",
      "6\n"
     ]
    }
   ],
   "source": [
    "print(maxSubArray(L1))"
   ]
  },
  {
   "cell_type": "code",
   "execution_count": 43,
   "metadata": {},
   "outputs": [
    {
     "name": "stdout",
     "output_type": "stream",
     "text": [
      "Left: 2\n",
      "Right: 1\n",
      "Middle: -1\n",
      "Left: 0\n",
      "Right: 0\n",
      "Middle: -2\n",
      "Left: 2\n",
      "Right: 0\n",
      "Middle: 11\n",
      "11\n"
     ]
    }
   ],
   "source": [
    "print(maxSubArray(L2))"
   ]
  },
  {
   "cell_type": "code",
   "execution_count": 46,
   "metadata": {},
   "outputs": [
    {
     "name": "stdout",
     "output_type": "stream",
     "text": [
      "0\n"
     ]
    }
   ],
   "source": [
    "print(maxSubArray(L3))"
   ]
  },
  {
   "cell_type": "code",
   "execution_count": 47,
   "metadata": {},
   "outputs": [
    {
     "name": "stdout",
     "output_type": "stream",
     "text": [
      "Left: 1\n",
      "Right: -999999999999\n",
      "Middle: -1000000000\n",
      "1\n"
     ]
    }
   ],
   "source": [
    "print(maxSubArray(L4))"
   ]
  },
  {
   "cell_type": "code",
   "execution_count": 75,
   "metadata": {},
   "outputs": [],
   "source": [
    "import time as t\n",
    "import pandas as pd\n",
    "import matplotlib.pyplot as plt"
   ]
  },
  {
   "cell_type": "code",
   "execution_count": 79,
   "metadata": {},
   "outputs": [],
   "source": [
    "data = []\n",
    "sizes = []\n",
    "for i in range(0,10000,100):\n",
    "    sizes.append(i+100)\n",
    "    start = t.time()\n",
    "    for j in range(1,1000):\n",
    "        np.random.randint(-1000,high=1000, size=100+i)\n",
    "    data.append((t.time()-start)/1000)\n",
    "    "
   ]
  },
  {
   "cell_type": "code",
   "execution_count": 80,
   "metadata": {},
   "outputs": [
    {
     "data": {
      "text/plain": [
       "[<matplotlib.lines.Line2D at 0x114156278>]"
      ]
     },
     "execution_count": 80,
     "metadata": {},
     "output_type": "execute_result"
    },
    {
     "data": {
      "image/png": "[encoded data removed]",
      "text/plain": [
       "<Figure size 432x288 with 1 Axes>"
      ]
     },
     "metadata": {
      "needs_background": "light"
     },
     "output_type": "display_data"
    }
   ],
   "source": [
    "plt.plot(sizes,data)"
   ]
  },
  {
   "cell_type": "code",
   "execution_count": null,
   "metadata": {},
   "outputs": [],
   "source": []
  }
 ],
 "metadata": {
  "kernelspec": {
   "display_name": "Python 3",
   "language": "python",
   "name": "python3"
  },
  "language_info": {
   "codemirror_mode": {
    "name": "ipython",
    "version": 3
   },
   "file_extension": ".py",
   "mimetype": "text/x-python",
   "name": "python",
   "nbconvert_exporter": "python",
   "pygments_lexer": "ipython3",
   "version": "3.7.2"
  }
 },
 "nbformat": 4,
 "nbformat_minor": 2
}
