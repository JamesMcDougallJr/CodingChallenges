{
 "cells": [
  {
   "cell_type": "code",
   "execution_count": 107,
   "metadata": {},
   "outputs": [],
   "source": [
    "L1 = [4,2,3,1,5]\n",
    "L2 = [5,4,3,2,1]\n",
    "L3 = [1,2,3,4,5]\n",
    "L4 = [1,3,5,7,4,2,0]\n",
    "# not sure what to do with duplicates, so I just assumed there wasn't any"
   ]
  },
  {
   "cell_type": "code",
   "execution_count": 101,
   "metadata": {},
   "outputs": [],
   "source": [
    "def merge(lefthalf,righthalf):\n",
    "    new_list = [-1]*(len(lefthalf)+len(righthalf))\n",
    "    i=0\n",
    "    j=0\n",
    "    k=0\n",
    "    inversions = 0\n",
    "    while i < len(lefthalf) and j < len(righthalf):\n",
    "        if lefthalf[i] < righthalf[j]:\n",
    "            new_list[k]=lefthalf[i]\n",
    "            i=i+1\n",
    "        else:\n",
    "            new_list[k]=righthalf[j]\n",
    "            j=j+1\n",
    "            inversions += (len(lefthalf)-i)\n",
    "        k=k+1\n",
    "\n",
    "    while i < len(lefthalf):\n",
    "        new_list[k]=lefthalf[i]\n",
    "        i=i+1\n",
    "        k=k+1\n",
    "\n",
    "    while j < len(righthalf):\n",
    "        new_list[k]=righthalf[j]\n",
    "        j=j+1\n",
    "        k=k+1\n",
    "    print(new_list)\n",
    "    print(inversions)\n",
    "    return new_list,inversions"
   ]
  },
  {
   "cell_type": "code",
   "execution_count": 102,
   "metadata": {},
   "outputs": [],
   "source": [
    "def count_inversions(L):\n",
    "    if len(L) <= 1:\n",
    "        return (L,0)\n",
    "    left,invL = count_inversions(L[:len(L)//2])\n",
    "    right,invR = count_inversions(L[len(L)//2:])\n",
    "    L,inversions = merge(left,right)\n",
    "    return (L,inversions+invL+invR)"
   ]
  },
  {
   "cell_type": "code",
   "execution_count": 103,
   "metadata": {},
   "outputs": [
    {
     "name": "stdout",
     "output_type": "stream",
     "text": [
      "[2, 4]\n",
      "1\n",
      "[1, 5]\n",
      "0\n",
      "[1, 3, 5]\n",
      "1\n",
      "[1, 2, 3, 4, 5]\n",
      "3\n"
     ]
    },
    {
     "data": {
      "text/plain": [
       "([1, 2, 3, 4, 5], 5)"
      ]
     },
     "execution_count": 103,
     "metadata": {},
     "output_type": "execute_result"
    }
   ],
   "source": [
    "count_inversions(L1)"
   ]
  },
  {
   "cell_type": "code",
   "execution_count": 104,
   "metadata": {},
   "outputs": [
    {
     "name": "stdout",
     "output_type": "stream",
     "text": [
      "[4, 5]\n",
      "1\n",
      "[1, 2]\n",
      "1\n",
      "[1, 2, 3]\n",
      "2\n",
      "[1, 2, 3, 4, 5]\n",
      "6\n"
     ]
    },
    {
     "data": {
      "text/plain": [
       "([1, 2, 3, 4, 5], 10)"
      ]
     },
     "execution_count": 104,
     "metadata": {},
     "output_type": "execute_result"
    }
   ],
   "source": [
    "count_inversions(L2)"
   ]
  },
  {
   "cell_type": "code",
   "execution_count": 105,
   "metadata": {},
   "outputs": [
    {
     "name": "stdout",
     "output_type": "stream",
     "text": [
      "[1, 2]\n",
      "0\n",
      "[4, 5]\n",
      "0\n",
      "[3, 4, 5]\n",
      "0\n",
      "[1, 2, 3, 4, 5]\n",
      "0\n"
     ]
    },
    {
     "data": {
      "text/plain": [
       "([1, 2, 3, 4, 5], 0)"
      ]
     },
     "execution_count": 105,
     "metadata": {},
     "output_type": "execute_result"
    }
   ],
   "source": [
    "count_inversions(L3)"
   ]
  },
  {
   "cell_type": "code",
   "execution_count": 106,
   "metadata": {},
   "outputs": [
    {
     "name": "stdout",
     "output_type": "stream",
     "text": [
      "[3, 5]\n",
      "0\n",
      "[1, 3, 5]\n",
      "0\n",
      "[4, 7]\n",
      "1\n",
      "[0, 2]\n",
      "1\n",
      "[0, 2, 4, 7]\n",
      "4\n",
      "[0, 1, 2, 3, 4, 5, 7]\n",
      "6\n"
     ]
    },
    {
     "data": {
      "text/plain": [
       "([0, 1, 2, 3, 4, 5, 7], 12)"
      ]
     },
     "execution_count": 106,
     "metadata": {},
     "output_type": "execute_result"
    }
   ],
   "source": [
    "count_inversions(L4)"
   ]
  },
  {
   "cell_type": "code",
   "execution_count": null,
   "metadata": {},
   "outputs": [],
   "source": []
  },
  {
   "cell_type": "code",
   "execution_count": null,
   "metadata": {},
   "outputs": [],
   "source": []
  }
 ],
 "metadata": {
  "kernelspec": {
   "display_name": "Python 3",
   "language": "python",
   "name": "python3"
  },
  "language_info": {
   "codemirror_mode": {
    "name": "ipython",
    "version": 3
   },
   "file_extension": ".py",
   "mimetype": "text/x-python",
   "name": "python",
   "nbconvert_exporter": "python",
   "pygments_lexer": "ipython3",
   "version": "3.7.2"
  }
 },
 "nbformat": 4,
 "nbformat_minor": 2
}
