{
 "cells": [
  {
   "cell_type": "code",
   "execution_count": 3,
   "metadata": {},
   "outputs": [
    {
     "ename": "TabError",
     "evalue": "inconsistent use of tabs and spaces in indentation (<ipython-input-3-b1beeb35ec83>, line 21)",
     "output_type": "error",
     "traceback": [
      "\u001b[0;36m  File \u001b[0;32m\"<ipython-input-3-b1beeb35ec83>\"\u001b[0;36m, line \u001b[0;32m21\u001b[0m\n\u001b[0;31m    max_of_s = S[0][0]\u001b[0m\n\u001b[0m                       ^\u001b[0m\n\u001b[0;31mTabError\u001b[0m\u001b[0;31m:\u001b[0m inconsistent use of tabs and spaces in indentation\n"
     ]
    }
   ],
   "source": [
    "# Python3 code for Maximum size \n",
    "# square sub-matrix with all 1s \n",
    "\n",
    "def printMaxSubSquare(M): \n",
    "    R = len(M) # no. of rows in M[][] \n",
    "    C = len(M[0]) # no. of columns in M[][] \n",
    "\n",
    "    S = [[0 for k in range(C)] for l in range(R)] \n",
    "    # here we have set the first row and column of S[][] \n",
    "\n",
    "    # Construct other entries \n",
    "    for i in range(1, R): \n",
    "        for j in range(1, C): \n",
    "            if (M[i][j] == 1): \n",
    "                S[i][j] = min(S[i][j-1], S[i-1][j], S[i-1][j-1]) + 1\n",
    "            else: \n",
    "                S[i][j] = 0\n",
    "\t\n",
    "\t# Find the maximum entry and \n",
    "\t# indices of maximum entry in S[][] \n",
    "\tmax_of_s = S[0][0] \n",
    "\tmax_i = 0\n",
    "\tmax_j = 0\n",
    "\tfor i in range(R): \n",
    "\t\tfor j in range(C): \n",
    "\t\t\tif (max_of_s < S[i][j]): \n",
    "\t\t\t\tmax_of_s = S[i][j] \n",
    "\t\t\t\tmax_i = i \n",
    "\t\t\t\tmax_j = j \n",
    "\n",
    "\tprint(\"Maximum size sub-matrix is: \") \n",
    "\tfor i in range(max_i, max_i - max_of_s, -1): \n",
    "\t\tfor j in range(max_j, max_j - max_of_s, -1): \n",
    "\t\t\tprint (M[i][j], end = \" \") \n",
    "\t\tprint(\"\") \n",
    "\n",
    "# Driver Program \n",
    "M = [[0, 1, 1, 0, 1], \n",
    "\t[1, 1, 0, 1, 0], \n",
    "\t[0, 1, 1, 1, 0], \n",
    "\t[1, 1, 1, 1, 0], \n",
    "\t[1, 1, 1, 1, 1], \n",
    "\t[0, 0, 0, 0, 0]] \n",
    "\n",
    "printMaxSubSquare(M) \n",
    "\n",
    "# This code is contributed by Soumen Ghosh \n"
   ]
  },
  {
   "cell_type": "code",
   "execution_count": null,
   "metadata": {},
   "outputs": [],
   "source": []
  }
 ],
 "metadata": {
  "kernelspec": {
   "display_name": "Python 3",
   "language": "python",
   "name": "python3"
  },
  "language_info": {
   "codemirror_mode": {
    "name": "ipython",
    "version": 3
   },
   "file_extension": ".py",
   "mimetype": "text/x-python",
   "name": "python",
   "nbconvert_exporter": "python",
   "pygments_lexer": "ipython3",
   "version": "3.7.2"
  }
 },
 "nbformat": 4,
 "nbformat_minor": 2
}
