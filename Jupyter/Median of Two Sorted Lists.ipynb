{
 "cells": [
  {
   "cell_type": "code",
   "execution_count": 32,
   "metadata": {},
   "outputs": [],
   "source": [
    "L_1 = [1,2,3,4, 11, 12, 14, 85]\n",
    "L_2 = [1,7,8,9,10,12,12,23]"
   ]
  },
  {
   "cell_type": "code",
   "execution_count": 33,
   "metadata": {},
   "outputs": [],
   "source": [
    "def median(L1,L2):\n",
    "    if len(L1) <= 1 or len(L2) <= 1:\n",
    "        print(L1)\n",
    "        print(L2)\n",
    "        return min(L1[0], L2[0])\n",
    "    medianL1 = L1[len(L1)//2 - 1]\n",
    "    medianL2 = L2[len(L2)//2 - 1]\n",
    "    med = -1\n",
    "    if medianL1 < medianL2:\n",
    "        if len(L1) % 2 == 0:\n",
    "            L1 = L1[len(L1)//2 - 1:]\n",
    "        else:\n",
    "            L1 = L1[len(L1)//2:]\n",
    "        if len(L2) % 2 == 0:\n",
    "            L2 = L2[:len(L2)//2-1]\n",
    "        else:\n",
    "            L2 = L2[:len(L2)//2]\n",
    "        \n",
    "        med = median(L1,L2)\n",
    "    else:\n",
    "        if len(L1) % 2 == 0:\n",
    "            L1 = L1[len(L1)//2 - 1:]\n",
    "        else:\n",
    "            L1 = L1[len(L1)//2:]\n",
    "        if len(L2) % 2 == 0:\n",
    "            L2 = L2[:len(L2)//2-1]\n",
    "        else:\n",
    "            L2 = L2[:len(L2)//2]\n",
    "            \n",
    "        med = median(L1,L2)\n",
    "    return med"
   ]
  },
  {
   "cell_type": "code",
   "execution_count": 34,
   "metadata": {},
   "outputs": [
    {
     "name": "stdout",
     "output_type": "stream",
     "text": [
      "[11]\n",
      "[9]\n"
     ]
    },
    {
     "data": {
      "text/plain": [
       "9"
      ]
     },
     "execution_count": 34,
     "metadata": {},
     "output_type": "execute_result"
    }
   ],
   "source": [
    "median(L_1,L_2)"
   ]
  },
  {
   "cell_type": "code",
   "execution_count": null,
   "metadata": {},
   "outputs": [],
   "source": []
  }
 ],
 "metadata": {
  "kernelspec": {
   "display_name": "Python 3",
   "language": "python",
   "name": "python3"
  },
  "language_info": {
   "codemirror_mode": {
    "name": "ipython",
    "version": 2
   },
   "file_extension": ".py",
   "mimetype": "text/x-python",
   "name": "python",
   "nbconvert_exporter": "python",
   "pygments_lexer": "ipython2",
   "version": "2.7.16"
  }
 },
 "nbformat": 4,
 "nbformat_minor": 2
}
