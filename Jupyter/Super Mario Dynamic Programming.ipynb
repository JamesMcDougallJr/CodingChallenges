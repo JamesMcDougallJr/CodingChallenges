{
 "cells": [
  {
   "cell_type": "code",
   "execution_count": 131,
   "metadata": {},
   "outputs": [],
   "source": [
    "test_1 = ['E','M','E','S','E','E']\n",
    "test_2 = ['M','E','E','S','E','S']\n",
    "test_3 = ['M','E','E','E','E','E']\n",
    "test_4 = ['E','M','E','S','E','E','M','E','E','S','E','E']"
   ]
  },
  {
   "cell_type": "code",
   "execution_count": 4,
   "metadata": {},
   "outputs": [],
   "source": [
    "def mario_no_memo_bros(L,i,J):\n",
    "    if i >= len(L)-1:\n",
    "        return 0\n",
    "    if L[i] == 'M':\n",
    "        J += 1\n",
    "    step = 9e9\n",
    "    if L[i+1] != 'S':\n",
    "        step = mario_no_memo_bros(L,i+1,J)\n",
    "    jump = 9e9\n",
    "    if (i+J) >= len(L) or L[i+J] != 'S':\n",
    "        jump = mario_no_memo_bros(L,i+J,J)\n",
    "    return 1 + min(step,jump)"
   ]
  },
  {
   "cell_type": "code",
   "execution_count": 5,
   "metadata": {},
   "outputs": [
    {
     "name": "stdout",
     "output_type": "stream",
     "text": [
      "5\n"
     ]
    }
   ],
   "source": [
    "print(mario_no_memo_bros(test_4,0,2))"
   ]
  },
  {
   "cell_type": "code",
   "execution_count": 6,
   "metadata": {},
   "outputs": [],
   "source": [
    "assert mario_no_memo_bros(test_1,0,2) == 3\n",
    "assert mario_no_memo_bros(test_2,0,2) == 3\n",
    "assert mario_no_memo_bros(test_3,0,2) == 2\n",
    "assert mario_no_memo_bros(test_4,0,2) == 5"
   ]
  },
  {
   "cell_type": "code",
   "execution_count": 243,
   "metadata": {},
   "outputs": [],
   "source": [
    "def mario_memo_bros(L,J):\n",
    "    if L[len(L)-1] == 'S' or (L[1] == 9e9 and L[2] == 9e9):\n",
    "        return 9e9\n",
    "    jumps = {0:2,}\n",
    "    mario = [0]*len(L)\n",
    "    J = 2\n",
    "    for space in range(len(L)):\n",
    "        if L[space] == 'M':\n",
    "            J += 1\n",
    "            jumps[space] = J\n",
    "    for i in range(len(mario)):\n",
    "        \n",
    "        if L[i]=='S':\n",
    "            mario[i] = [9e9]*len(jumps)\n",
    "        else:\n",
    "            mario[i] = [0]*len(jumps)\n",
    "            \n",
    "        for j in range(len(jumps)):\n",
    "            if i < j:\n",
    "                mario[i][j] = 9e9\n",
    "\n",
    "    print(mario)\n",
    "    # for each space\n",
    "    for i in range(len(L)):\n",
    "        minimum = 9e9\n",
    "        if i == 0 :\n",
    "            continue\n",
    "        # for all j post i\n",
    "\n",
    "        for j in jumps:\n",
    "            # Case 1 (step)\n",
    "            \n",
    "            # subcase 1.1 (spike)\n",
    "            if L[i-1] == 'S':\n",
    "                minimum = min(minimum,9e9)\n",
    "                \n",
    "            #subcase 1.2 (mushroom)\n",
    "            elif L[i-1] == 'M':\n",
    "                minimum = min(minimum,1+mario[i-1][j-1])\n",
    "            #subcase 1.3 (nothing)\n",
    "            else:\n",
    "                minimum = min(minimum,1+mario[i-1][j])\n",
    "           \n",
    "            # Case 2 (jump)\n",
    "            \n",
    "            #subcase 2.1 (spike)\n",
    "            if L[i-1] == 'S':\n",
    "                minimum = min(minimum,9e9)\n",
    "                \n",
    "            # subcase 2.2 (mushroom)\n",
    "            elif L[i-1] == 'M':\n",
    "                if i - jumps[j] >= 0:\n",
    "                    minimum = min(minimum,1+mario[i-jumps[j]][j-1])\n",
    "            \n",
    "            # subcase 2.3 (Nothing)\n",
    "            else:\n",
    "                if i - jumps[j] >= 0:\n",
    "                    minimum = min(minimum,1+mario[i-jumps[j]][j])\n",
    "            \n",
    "            # assign the current mario value to the smallest of these cases\n",
    "            print(minimum)\n",
    "            mario[i][j] = minimum\n",
    "            \n",
    "    return mario"
   ]
  },
  {
   "cell_type": "code",
   "execution_count": 244,
   "metadata": {},
   "outputs": [
    {
     "name": "stdout",
     "output_type": "stream",
     "text": [
      "[[0, 9000000000.0], [0, 0], [0, 0], [9000000000.0, 9000000000.0], [0, 0], [0, 0]]\n",
      "1\n",
      "1\n",
      "2\n",
      "2\n",
      "2\n",
      "2\n",
      "9000000000.0\n",
      "9000000000.0\n",
      "3\n",
      "3\n"
     ]
    },
    {
     "data": {
      "text/plain": [
       "[[0, 9000000000.0],\n",
       " [1, 1],\n",
       " [2, 2],\n",
       " [2, 2],\n",
       " [9000000000.0, 9000000000.0],\n",
       " [3, 3]]"
      ]
     },
     "execution_count": 244,
     "metadata": {},
     "output_type": "execute_result"
    }
   ],
   "source": [
    "mario_memo_bros(test_1, 2)"
   ]
  },
  {
   "cell_type": "code",
   "execution_count": 154,
   "metadata": {},
   "outputs": [],
   "source": [
    "expected_array_jumps = [[3,9e9],[9e9,2],[2,2],[9e9,9e9],[1,1],[0,0]]\n",
    "expected_array_steps = [3,3,9e9,9e9,1,0]"
   ]
  },
  {
   "cell_type": "code",
   "execution_count": 155,
   "metadata": {},
   "outputs": [
    {
     "data": {
      "text/plain": [
       "9000000000.0"
      ]
     },
     "execution_count": 155,
     "metadata": {},
     "output_type": "execute_result"
    }
   ],
   "source": [
    "mario_memo_bros(test_2,2)"
   ]
  },
  {
   "cell_type": "code",
   "execution_count": 156,
   "metadata": {},
   "outputs": [
    {
     "name": "stdout",
     "output_type": "stream",
     "text": [
      "[3, 4]\n",
      "Min Jumps: [[9000000001.0, 3], [4, 4], [3, 3], [9000000000.0, 9000000000.0], [3, 2], [2, 9000000001.0], [9000000001.0, 2], [2, 1], [1, 1], [9000000000.0, 9000000000.0], [1, 1], [0, 0]]\n",
      "Min Steps: [5, 4, 9000000000.0, 9000000000.0, 3, 3, 2, 2, 9000000000.0, 9000000000.0, 1, 0]\n"
     ]
    },
    {
     "data": {
      "text/plain": [
       "3"
      ]
     },
     "execution_count": 156,
     "metadata": {},
     "output_type": "execute_result"
    }
   ],
   "source": [
    "mario_memo_bros(test_4,2)"
   ]
  },
  {
   "cell_type": "code",
   "execution_count": null,
   "metadata": {},
   "outputs": [],
   "source": []
  },
  {
   "cell_type": "code",
   "execution_count": null,
   "metadata": {},
   "outputs": [],
   "source": []
  }
 ],
 "metadata": {
  "kernelspec": {
   "display_name": "Python 3",
   "language": "python",
   "name": "python3"
  },
  "language_info": {
   "codemirror_mode": {
    "name": "ipython",
    "version": 3
   },
   "file_extension": ".py",
   "mimetype": "text/x-python",
   "name": "python",
   "nbconvert_exporter": "python",
   "pygments_lexer": "ipython3",
   "version": "3.7.2"
  }
 },
 "nbformat": 4,
 "nbformat_minor": 2
}
