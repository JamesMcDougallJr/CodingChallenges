{
 "cells": [
  {
   "cell_type": "code",
   "execution_count": 1,
   "metadata": {},
   "outputs": [],
   "source": [
    "class Node:\n",
    "    def __init__(self,value):\n",
    "        self.left = None\n",
    "        self.right = None\n",
    "        self.value = value"
   ]
  },
  {
   "cell_type": "code",
   "execution_count": 2,
   "metadata": {},
   "outputs": [],
   "source": [
    "root = Node(42)\n",
    "root.left = Node(6)\n",
    "root.right = Node(71)\n",
    "root.left.left = Node(1)\n",
    "root.left.right = Node(2)\n",
    "root.right.left = Node(4)\n",
    "root.right.right = Node(8)"
   ]
  },
  {
   "cell_type": "code",
   "execution_count": 40,
   "metadata": {},
   "outputs": [],
   "source": [
    "def getPairs(node):\n",
    "    if node == None:\n",
    "        return None\n",
    "    \n",
    "    leftPair = getPairs(node.left)\n",
    "    rightPair = getPairs(node.right)\n",
    "    \n",
    "    if leftPair is None and rightPair is None:\n",
    "        return (node.value,0) # (in,out)\n",
    "    \n",
    "    else:\n",
    "        print('Left Pair: ' + str(leftPair))\n",
    "        print('Right Pair: '+ str(rightPair))\n",
    "        \n",
    "        maxIn = max(leftPair[0],rightPair[0])\n",
    "        maxOut = max(leftPair[1],rightPair[1])\n",
    "        # if maxIn is left, add the max out of the right\n",
    "        # if maxIn in right, add the max out of the left\n",
    "        if maxIn == leftPair[0]:\n",
    "            return (node.value+maxOut, maxIn+rightPair[1])\n",
    "        else:\n",
    "            return (node.value+maxOut,maxIn+leftPair[1])"
   ]
  },
  {
   "cell_type": "code",
   "execution_count": 41,
   "metadata": {},
   "outputs": [],
   "source": [
    "def maxSubsetSum(r):\n",
    "    pair = getPairs(r)\n",
    "    print(\"Pair: \" + str(pair))\n",
    "    return max(pair[0],pair[1])"
   ]
  },
  {
   "cell_type": "code",
   "execution_count": 42,
   "metadata": {},
   "outputs": [
    {
     "name": "stdout",
     "output_type": "stream",
     "text": [
      "Left Pair: (1, 0)\n",
      "Right Pair: (2, 0)\n",
      "Left Pair: (4, 0)\n",
      "Right Pair: (8, 0)\n",
      "Left Pair: (6, 2)\n",
      "Right Pair: (71, 8)\n",
      "Pair: (50, 73)\n",
      "73\n"
     ]
    }
   ],
   "source": [
    "print(maxSubsetSum(root))"
   ]
  },
  {
   "cell_type": "code",
   "execution_count": null,
   "metadata": {},
   "outputs": [],
   "source": []
  }
 ],
 "metadata": {
  "kernelspec": {
   "display_name": "Python 3",
   "language": "python",
   "name": "python3"
  },
  "language_info": {
   "codemirror_mode": {
    "name": "ipython",
    "version": 3
   },
   "file_extension": ".py",
   "mimetype": "text/x-python",
   "name": "python",
   "nbconvert_exporter": "python",
   "pygments_lexer": "ipython3",
   "version": "3.7.2"
  }
 },
 "nbformat": 4,
 "nbformat_minor": 2
}
